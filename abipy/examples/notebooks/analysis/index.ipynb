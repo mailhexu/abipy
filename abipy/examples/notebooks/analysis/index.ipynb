{
 "cells": [
  {
   "cell_type": "markdown",
   "metadata": {
    "deletable": true,
    "editable": true
   },
   "source": [
    "Back to the main [Index](../index.ipynb)"
   ]
  },
  {
   "cell_type": "markdown",
   "metadata": {
    "deletable": true,
    "editable": true
   },
   "source": [
    "# Analysis"
   ]
  },
  {
   "cell_type": "markdown",
   "metadata": {
    "deletable": true,
    "editable": true
   },
   "source": [
    "In this section, we discuss how to use the `AbiPy` objects to read the results of the calculation from a `Netcdf` file, \n",
    "analyze the results and plot data with `matplotlib`."
   ]
  },
  {
   "cell_type": "markdown",
   "metadata": {
    "deletable": true,
    "editable": true
   },
   "source": [
    "## Tutorials"
   ]
  },
  {
   "cell_type": "markdown",
   "metadata": {
    "deletable": true,
    "editable": true
   },
   "source": [
    "* [GSR](gsr.ipynb): Analyze the results of a ground-state calculation with the GSR file\n",
    "* [MBPT](mbpt.ipynb): Analyze the results of $GW$ and Bethe-Salpeter calculations \n",
    "* [PHBST](phonons.ipynb): Tools to analyze phonons\n",
    "* [FATBANDS](efatbands.ipynb): Plot electronic fatbands and L-projected DOSes\n",
    "* [Ipython widgets](widgets.ipynb): How to use the widgets provided by abipy.display to analyse pandas DataFrames"
   ]
  }
 ],
 "metadata": {
  "kernelspec": {
   "display_name": "Python 3",
   "language": "python",
   "name": "python3"
  },
  "language_info": {
   "codemirror_mode": {
    "name": "ipython",
    "version": 3
   },
   "file_extension": ".py",
   "mimetype": "text/x-python",
   "name": "python",
   "nbconvert_exporter": "python",
   "pygments_lexer": "ipython3",
   "version": "3.6.1"
  },
  "latex_envs": {
   "bibliofile": "biblio.bib",
   "cite_by": "apalike",
   "current_citInitial": 1,
   "eqLabelWithNumbers": true,
   "eqNumInitial": 0
  }
 },
 "nbformat": 4,
 "nbformat_minor": 0
}
